{
 "cells": [
  {
   "cell_type": "code",
   "execution_count": 1,
   "metadata": {},
   "outputs": [
    {
     "name": "stdout",
     "output_type": "stream",
     "text": [
      "Populating the interactive namespace from numpy and matplotlib\n"
     ]
    },
    {
     "name": "stderr",
     "output_type": "stream",
     "text": [
      "/usr/local/lib/python3.6/dist-packages/IPython/core/magics/pylab.py:160: UserWarning: pylab import has clobbered these variables: ['plt']\n",
      "`%matplotlib` prevents importing * from pylab and numpy\n",
      "  \"\\n`%matplotlib` prevents importing * from pylab and numpy\"\n"
     ]
    }
   ],
   "source": [
    "import pandas as pd\n",
    "import numpy as np\n",
    "import matplotlib as plt\n",
    "%pylab inline"
   ]
  },
  {
   "cell_type": "code",
   "execution_count": 14,
   "metadata": {},
   "outputs": [],
   "source": [
    "import torch\n",
    "from torch import nn\n",
    "from torch.utils.data import TensorDataset, DataLoader"
   ]
  },
  {
   "cell_type": "code",
   "execution_count": 2,
   "metadata": {},
   "outputs": [],
   "source": [
    "data = pd.read_csv('data_sml2010.csv')"
   ]
  },
  {
   "cell_type": "code",
   "execution_count": 4,
   "metadata": {},
   "outputs": [],
   "source": [
    "target = np.load('target_sml2010.npy')"
   ]
  },
  {
   "cell_type": "code",
   "execution_count": 5,
   "metadata": {},
   "outputs": [],
   "source": [
    "cols = np.load('cols_sml2010.npy')"
   ]
  },
  {
   "cell_type": "code",
   "execution_count": 6,
   "metadata": {},
   "outputs": [
    {
     "data": {
      "text/plain": [
       "array(['4:Temperature_Habitacion_Sensor', '5:Weather_Temperature',\n",
       "       '6:CO2_Comedor_Sensor', '7:CO2_Habitacion_Sensor',\n",
       "       '8:Humedad_Comedor_Sensor', '9:Humedad_Habitacion_Sensor',\n",
       "       '10:Lighting_Comedor_Sensor', '11:Lighting_Habitacion_Sensor',\n",
       "       '12:Precipitacion', '13:Meteo_Exterior_Crepusculo',\n",
       "       '14:Meteo_Exterior_Viento', '15:Meteo_Exterior_Sol_Oest',\n",
       "       '16:Meteo_Exterior_Sol_Est', '17:Meteo_Exterior_Sol_Sud',\n",
       "       '18:Meteo_Exterior_Piranometro', '19:Exterior_Entalpic_1',\n",
       "       '20:Exterior_Entalpic_2', '21:Exterior_Entalpic_turbo',\n",
       "       '22:Temperature_Exterior_Sensor'], dtype='<U31')"
      ]
     },
     "execution_count": 6,
     "metadata": {},
     "output_type": "execute_result"
    }
   ],
   "source": [
    "cols"
   ]
  },
  {
   "cell_type": "code",
   "execution_count": 7,
   "metadata": {},
   "outputs": [
    {
     "data": {
      "text/plain": [
       "array('3:Temperature_Comedor_Sensor', dtype='<U28')"
      ]
     },
     "execution_count": 7,
     "metadata": {},
     "output_type": "execute_result"
    }
   ],
   "source": [
    "target"
   ]
  },
  {
   "cell_type": "code",
   "execution_count": 8,
   "metadata": {},
   "outputs": [],
   "source": [
    "depth = 32"
   ]
  },
  {
   "cell_type": "code",
   "execution_count": 24,
   "metadata": {},
   "outputs": [],
   "source": [
    "X = np.zeros((len(data), depth, len(cols)))\n",
    "for i, name in enumerate(cols):\n",
    "    for j in range(depth):\n",
    "        X[:, j, i] = data[name].shift(depth - j - 1).bfill()"
   ]
  },
  {
   "cell_type": "code",
   "execution_count": 25,
   "metadata": {},
   "outputs": [],
   "source": [
    "y = data[target].shift(-1).ffill().values"
   ]
  },
  {
   "cell_type": "code",
   "execution_count": 26,
   "metadata": {},
   "outputs": [],
   "source": [
    "train_length = int(0.8*len(data))"
   ]
  },
  {
   "cell_type": "code",
   "execution_count": 27,
   "metadata": {},
   "outputs": [],
   "source": [
    "X_train = X[:train_length]\n",
    "X_test = X[train_length:]\n",
    "\n",
    "y_train = y[:train_length]\n",
    "y_test = y[train_length:]"
   ]
  },
  {
   "cell_type": "code",
   "execution_count": 28,
   "metadata": {},
   "outputs": [],
   "source": [
    "X_train_min = X_train.min(axis=0)\n",
    "X_train_max = X_train.max(axis=0)"
   ]
  },
  {
   "cell_type": "code",
   "execution_count": 29,
   "metadata": {},
   "outputs": [],
   "source": [
    "X_train = (X_train - X_train_min)/(X_train_max - X_train_min + 1e-9)\n",
    "X_test = (X_test - X_train_min)/(X_train_max - X_train_min + 1e-9)"
   ]
  },
  {
   "cell_type": "code",
   "execution_count": 56,
   "metadata": {},
   "outputs": [],
   "source": [
    "y_train_min = y_train.min(axis=0)\n",
    "y_train_max = y_train.max(axis=0)"
   ]
  },
  {
   "cell_type": "code",
   "execution_count": 57,
   "metadata": {},
   "outputs": [],
   "source": [
    "y_train = (y_train - y_train_min)/(y_train_max - y_train_min + 1e-9)\n",
    "y_test = (y_test - y_train_min)/(y_train_max - y_train_min + 1e-9)"
   ]
  },
  {
   "cell_type": "code",
   "execution_count": 58,
   "metadata": {},
   "outputs": [],
   "source": [
    "X_train_t = torch.Tensor(X_train)\n",
    "X_test_t = torch.Tensor(X_test)\n",
    "\n",
    "y_train_t = torch.Tensor(y_train)\n",
    "y_test_t = torch.Tensor(y_test)"
   ]
  },
  {
   "cell_type": "code",
   "execution_count": 59,
   "metadata": {},
   "outputs": [],
   "source": [
    "train_loader = DataLoader(TensorDataset(X_train_t, y_train_t), batch_size=32, shuffle=True)\n",
    "test_loader = DataLoader(TensorDataset(X_test_t, y_test_t), batch_size=32, shuffle=False)"
   ]
  },
  {
   "cell_type": "code",
   "execution_count": 110,
   "metadata": {},
   "outputs": [],
   "source": [
    "import torch\n",
    "import torch.nn as nn\n",
    "from torch.nn.utils import weight_norm\n",
    "class TCNTemporalBlock(nn.Module):\n",
    "    def __init__(self, input_channels, output_channels, kernel_size, dilation):\n",
    "        super().__init__()\n",
    "        padding = int(dilation*(kernel_size-1))\n",
    "        self.pad = nn.ConstantPad1d((padding, 0), 0)\n",
    "        self.conv1 = weight_norm(nn.Conv1d(input_channels, output_channels, kernel_size, dilation=dilation))\n",
    "        self.conv2 = weight_norm(nn.Conv1d(output_channels, output_channels, kernel_size, dilation=dilation))\n",
    "        self.residual = nn.Conv1d(input_channels, output_channels, 1)\n",
    "        \n",
    "    def forward(self, x):\n",
    "        out = self.pad(x)\n",
    "        out = torch.relu(self.conv1(out))\n",
    "        out = self.pad(out)\n",
    "        out = torch.relu(self.conv2(out))\n",
    "        y = self.residual(x)\n",
    "        out = torch.relu(out + y)\n",
    "        return out\n",
    "    \n",
    "\n",
    "class TCN(nn.Module):\n",
    "    def __init__(self, input_dim, n_layers, n_channels=32, kernel_size=3):\n",
    "        super().__init__()\n",
    "        self.first_layer = TCNTemporalBlock(input_dim, n_channels, kernel_size, 1)\n",
    "        self.tcn_layers = nn.ModuleList([TCNTemporalBlock(n_channels, n_channels, kernel_size, 2**(i+1)) for i in range(n_layers-1)])\n",
    "        self.n_layers = n_layers\n",
    "        self.output_transform = nn.Linear(n_channels, 1)\n",
    "    def forward(self, x):\n",
    "        x = x.permute(0, 2, 1)\n",
    "        x = self.first_layer(x)\n",
    "        for i in range(self.n_layers-1):\n",
    "            x = self.tcn_layers[i](x)\n",
    "        x = x[..., -1]\n",
    "        out = self.output_transform(x)\n",
    "        return out.squeeze(1)"
   ]
  },
  {
   "cell_type": "code",
   "execution_count": 170,
   "metadata": {},
   "outputs": [],
   "source": [
    "model = TCN(X_train_t.shape[2], 5).cuda()"
   ]
  },
  {
   "cell_type": "code",
   "execution_count": 171,
   "metadata": {},
   "outputs": [],
   "source": [
    "opt = torch.optim.Adam(model.parameters(), lr=0.001)"
   ]
  },
  {
   "cell_type": "code",
   "execution_count": 172,
   "metadata": {},
   "outputs": [],
   "source": [
    "sc = torch.optim.lr_scheduler.StepLR(opt, 10, 0.9)"
   ]
  },
  {
   "cell_type": "code",
   "execution_count": 173,
   "metadata": {},
   "outputs": [],
   "source": [
    "loss = nn.MSELoss()"
   ]
  },
  {
   "cell_type": "code",
   "execution_count": 174,
   "metadata": {},
   "outputs": [],
   "source": [
    "early_stopping_rounds=10"
   ]
  },
  {
   "cell_type": "code",
   "execution_count": 175,
   "metadata": {},
   "outputs": [
    {
     "name": "stdout",
     "output_type": "stream",
     "text": [
      "Iter:  0 train_loss:  3.6677076993510127 val_loss:  0.2702104503987357\n",
      "Iter:  1 train_loss:  0.8652645188849419 val_loss:  0.16882774129044265\n",
      "Iter:  2 train_loss:  0.6057707113213837 val_loss:  0.09556646912824363\n",
      "Iter:  3 train_loss:  0.5321923864539713 val_loss:  0.09767943614860997\n",
      "Iter:  4 train_loss:  0.45665621757507324 val_loss:  0.08927835107897408\n",
      "Iter:  5 train_loss:  0.41547248559072614 val_loss:  0.09956276218872517\n",
      "Iter:  6 train_loss:  0.38602449279278517 val_loss:  0.08957377122715116\n",
      "Iter:  7 train_loss:  0.36718813504558057 val_loss:  0.08967631429550238\n",
      "Iter:  8 train_loss:  0.3377094909083098 val_loss:  0.09639261174015701\n",
      "Iter:  9 train_loss:  0.3196712426142767 val_loss:  0.09764443861786276\n",
      "Iter:  10 train_loss:  0.2831051354878582 val_loss:  0.09224876743974164\n",
      "Iter:  11 train_loss:  0.27032882341882214 val_loss:  0.1004785541590536\n",
      "Iter:  12 train_loss:  0.2392322116647847 val_loss:  0.09764040354639292\n",
      "Iter:  13 train_loss:  0.24637340020854026 val_loss:  0.10480909352190793\n"
     ]
    }
   ],
   "source": [
    "vl = 99999\n",
    "counter = 0\n",
    "for e in range(300):\n",
    "    train_loss = 0\n",
    "    val_loss = 0\n",
    "    for batch_x, batch_y in train_loader:\n",
    "        batch_x = batch_x.cuda()\n",
    "        batch_y = batch_y.cuda()\n",
    "        \n",
    "        opt.zero_grad()\n",
    "        \n",
    "        output = model(batch_x)\n",
    "        \n",
    "        l = loss(output, batch_y)\n",
    "        \n",
    "        l.backward()\n",
    "        \n",
    "        opt.step()\n",
    "        \n",
    "        train_loss += l.item()\n",
    "    \n",
    "    sc.step()\n",
    "    with torch.no_grad():\n",
    "        for batch_x, batch_y in test_loader:\n",
    "            batch_x = batch_x.cuda()\n",
    "            batch_y = batch_y.cuda()\n",
    "            \n",
    "            output = model(batch_x)\n",
    "            \n",
    "            l = loss(output, batch_y)\n",
    "            \n",
    "            val_loss += l.item()\n",
    "            \n",
    "    if vl > val_loss:\n",
    "        vl = val_loss\n",
    "        torch.save(model.state_dict(), 'tcn_sml2010.pt')\n",
    "        counter = 0\n",
    "    \n",
    "    else:\n",
    "        counter += 1\n",
    "        \n",
    "    if counter >= early_stopping_rounds:\n",
    "        break\n",
    "        \n",
    "    print('Iter: ', e, 'train_loss: ', train_loss, 'val_loss: ', val_loss)"
   ]
  },
  {
   "cell_type": "code",
   "execution_count": 176,
   "metadata": {},
   "outputs": [
    {
     "data": {
      "text/plain": [
       "<All keys matched successfully>"
      ]
     },
     "execution_count": 176,
     "metadata": {},
     "output_type": "execute_result"
    }
   ],
   "source": [
    "model.load_state_dict(torch.load('tcn_sml2010.pt'))"
   ]
  },
  {
   "cell_type": "code",
   "execution_count": 177,
   "metadata": {},
   "outputs": [],
   "source": [
    "preds = []\n",
    "true = []\n",
    "with torch.no_grad():\n",
    "    for batch_x, batch_y in test_loader:\n",
    "        batch_x = batch_x.cuda()\n",
    "        batch_y = batch_y.cuda()\n",
    "\n",
    "        output = model(batch_x)\n",
    "        \n",
    "        true.append(batch_y.detach().cpu().numpy())\n",
    "        preds.append(output.detach().cpu().numpy())\n",
    "\n",
    "true = np.concatenate(true)\n",
    "preds = np.concatenate(preds)"
   ]
  },
  {
   "cell_type": "code",
   "execution_count": 178,
   "metadata": {},
   "outputs": [
    {
     "data": {
      "text/plain": [
       "[<matplotlib.lines.Line2D at 0x7f8939c9b908>]"
      ]
     },
     "execution_count": 178,
     "metadata": {},
     "output_type": "execute_result"
    },
    {
     "data": {
      "image/png": "[encoded data removed]",
      "text/plain": [
       "<Figure size 432x288 with 1 Axes>"
      ]
     },
     "metadata": {
      "needs_background": "light"
     },
     "output_type": "display_data"
    }
   ],
   "source": [
    "plt.plot(true)\n",
    "plt.plot(preds)"
   ]
  },
  {
   "cell_type": "code",
   "execution_count": 179,
   "metadata": {},
   "outputs": [],
   "source": [
    "importance_calculation_steps = 20\n",
    "regularizer_coeff1 = 0.005\n",
    "regularizer_coeff2 = 0.0001\n",
    "scaling_coeff = 0.5\n",
    "importance_lr = 0.1\n",
    "importance_threshold = 0.005"
   ]
  },
  {
   "cell_type": "code",
   "execution_count": 180,
   "metadata": {},
   "outputs": [],
   "source": [
    "from tqdm import tqdm_notebook"
   ]
  },
  {
   "cell_type": "code",
   "execution_count": 181,
   "metadata": {},
   "outputs": [
    {
     "name": "stdout",
     "output_type": "stream",
     "text": [
      "Calculating Importance:\n"
     ]
    },
    {
     "name": "stderr",
     "output_type": "stream",
     "text": [
      "/usr/local/lib/python3.6/dist-packages/ipykernel_launcher.py:8: TqdmDeprecationWarning: This function will be removed in tqdm==5.0.0\n",
      "Please use `tqdm.notebook.tqdm` instead of `tqdm.tqdm_notebook`\n",
      "  \n"
     ]
    },
    {
     "data": {
      "application/vnd.jupyter.widget-view+json": {
       "model_id": "fb5a86d3744e4678a2257a09128a102a",
       "version_major": 2,
       "version_minor": 0
      },
      "text/plain": [
       "HBox(children=(FloatProgress(value=0.0, max=26.0), HTML(value='')))"
      ]
     },
     "metadata": {},
     "output_type": "display_data"
    },
    {
     "name": "stdout",
     "output_type": "stream",
     "text": [
      "\n"
     ]
    }
   ],
   "source": [
    "bce_loss = nn.BCELoss()\n",
    "mse_loss = nn.MSELoss()\n",
    "\n",
    "model.eval()\n",
    "\n",
    "print(\"Calculating Importance:\")\n",
    "importance_map = []\n",
    "for batch_x, batch_y in tqdm_notebook(test_loader):\n",
    "    batch_x = batch_x.cuda()\n",
    "    #batch_y = batch_y.cuda()\n",
    "    bx = batch_x\n",
    "    y = model(batch_x)\n",
    "    mask = nn.Parameter(-scaling_coeff*torch.randn_like(bx))\n",
    "    opt = torch.optim.RMSprop(nn.ParameterList([mask]), lr=importance_lr)\n",
    "    for e in range(importance_calculation_steps):\n",
    "        opt.zero_grad()\n",
    "        model.zero_grad()\n",
    "        model.eval()\n",
    "        y = y.detach()\n",
    "        M = torch.sigmoid(mask)\n",
    "        x_hat = bx*M\n",
    "        y_hat = model(x_hat)\n",
    "        l = mse_loss(y_hat, y)\n",
    "        l += regularizer_coeff1*torch.sum(torch.abs(M))\n",
    "        ones = torch.zeros_like(bx)\n",
    "        ones[M>0.5] = 1\n",
    "        l += 0.5*bce_loss(M, ones)\n",
    "        l.backward()\n",
    "        opt.step()\n",
    "    M = torch.sigmoid(mask)\n",
    "    #ms = ms.detach().cpu().numpy()\n",
    "    thresholds = {}\n",
    "    with torch.no_grad():\n",
    "        for t in np.linspace(M.min().item(), M.max().item(), 100):\n",
    "            M_clone = M.clone()\n",
    "            M_clone[M_clone>t] = 1\n",
    "            M_clone[M_clone<=t] = 0\n",
    "            x_hat = bx*M_clone\n",
    "            y_hat = model(x_hat)\n",
    "            l = mse_loss(y_hat, y)\n",
    "            l += regularizer_coeff2*torch.sum(torch.abs(M_clone))\n",
    "            thresholds[l.item()] = t\n",
    "    t = thresholds[min(thresholds.keys())]\n",
    "    M = M.detach().cpu().numpy()\n",
    "    M[M>t] = 1\n",
    "    M[M<=t] = 0\n",
    "    importance_map.append(np.abs(M))\n",
    "\n",
    "importance_map = np.concatenate(importance_map)\n",
    "importance_map = np.mean(importance_map, axis=0)"
   ]
  },
  {
   "cell_type": "code",
   "execution_count": 187,
   "metadata": {},
   "outputs": [
    {
     "data": {
      "text/plain": [
       "([<matplotlib.axis.YTick at 0x7f89946a6ef0>,\n",
       "  <matplotlib.axis.YTick at 0x7f89946a6e80>,\n",
       "  <matplotlib.axis.YTick at 0x7f89946a5358>,\n",
       "  <matplotlib.axis.YTick at 0x7f89945f6940>,\n",
       "  <matplotlib.axis.YTick at 0x7f89945ee4a8>,\n",
       "  <matplotlib.axis.YTick at 0x7f89945fd6d8>,\n",
       "  <matplotlib.axis.YTick at 0x7f89945fddd8>,\n",
       "  <matplotlib.axis.YTick at 0x7f89946052b0>,\n",
       "  <matplotlib.axis.YTick at 0x7f8994605748>,\n",
       "  <matplotlib.axis.YTick at 0x7f8994605be0>,\n",
       "  <matplotlib.axis.YTick at 0x7f899460d0b8>,\n",
       "  <matplotlib.axis.YTick at 0x7f899460d550>,\n",
       "  <matplotlib.axis.YTick at 0x7f899460d9e8>,\n",
       "  <matplotlib.axis.YTick at 0x7f89946057f0>,\n",
       "  <matplotlib.axis.YTick at 0x7f899465fd30>,\n",
       "  <matplotlib.axis.YTick at 0x7f899460d780>,\n",
       "  <matplotlib.axis.YTick at 0x7f89946140b8>,\n",
       "  <matplotlib.axis.YTick at 0x7f8994614550>,\n",
       "  <matplotlib.axis.YTick at 0x7f89946149e8>],\n",
       " [Text(0, 0, '4:Temperature_Habitacion_Sensor'),\n",
       "  Text(0, 1, '5:Weather_Temperature'),\n",
       "  Text(0, 2, '6:CO2_Comedor_Sensor'),\n",
       "  Text(0, 3, '7:CO2_Habitacion_Sensor'),\n",
       "  Text(0, 4, '8:Humedad_Comedor_Sensor'),\n",
       "  Text(0, 5, '9:Humedad_Habitacion_Sensor'),\n",
       "  Text(0, 6, '10:Lighting_Comedor_Sensor'),\n",
       "  Text(0, 7, '11:Lighting_Habitacion_Sensor'),\n",
       "  Text(0, 8, '12:Precipitacion'),\n",
       "  Text(0, 9, '13:Meteo_Exterior_Crepusculo'),\n",
       "  Text(0, 10, '14:Meteo_Exterior_Viento'),\n",
       "  Text(0, 11, '15:Meteo_Exterior_Sol_Oest'),\n",
       "  Text(0, 12, '16:Meteo_Exterior_Sol_Est'),\n",
       "  Text(0, 13, '17:Meteo_Exterior_Sol_Sud'),\n",
       "  Text(0, 14, '18:Meteo_Exterior_Piranometro'),\n",
       "  Text(0, 15, '19:Exterior_Entalpic_1'),\n",
       "  Text(0, 16, '20:Exterior_Entalpic_2'),\n",
       "  Text(0, 17, '21:Exterior_Entalpic_turbo'),\n",
       "  Text(0, 18, '22:Temperature_Exterior_Sensor')])"
      ]
     },
     "execution_count": 187,
     "metadata": {},
     "output_type": "execute_result"
    },
    {
     "data": {
      "image/png": "[encoded data removed]",
      "text/plain": [
       "<Figure size 432x288 with 1 Axes>"
      ]
     },
     "metadata": {
      "needs_background": "light"
     },
     "output_type": "display_data"
    }
   ],
   "source": [
    "plt.imshow(importance_map.T)\n",
    "plt.xticks(np.arange(depth), [\"t-{}\".format(i) for i in range(depth,0,-1)], rotation=90)\n",
    "plt.yticks(np.arange(len(cols)), cols)"
   ]
  },
  {
   "cell_type": "code",
   "execution_count": 194,
   "metadata": {},
   "outputs": [],
   "source": [
    "model = TCN(X_train_t.shape[2], 5).cuda()"
   ]
  },
  {
   "cell_type": "code",
   "execution_count": 195,
   "metadata": {},
   "outputs": [],
   "source": [
    "opt = torch.optim.Adam(model.parameters(), lr=0.001)\n",
    "sc = torch.optim.lr_scheduler.StepLR(opt, 10, 0.9)"
   ]
  },
  {
   "cell_type": "code",
   "execution_count": 196,
   "metadata": {},
   "outputs": [
    {
     "name": "stdout",
     "output_type": "stream",
     "text": [
      "Iter:  0 train_loss:  5.312469212338328 val_loss:  0.2787647537770681\n",
      "Iter:  1 train_loss:  1.0534939095377922 val_loss:  0.14921264827717096\n",
      "Iter:  2 train_loss:  0.8084847454447299 val_loss:  0.13581739144865423\n",
      "Iter:  3 train_loss:  0.7114624115638435 val_loss:  0.11567398166516796\n",
      "Iter:  4 train_loss:  0.6211315779946744 val_loss:  0.11296734033385292\n",
      "Iter:  5 train_loss:  0.5337702913675457 val_loss:  0.13370080140884966\n",
      "Iter:  6 train_loss:  0.49049250420648605 val_loss:  0.13697045220760629\n",
      "Iter:  7 train_loss:  0.46646058571059257 val_loss:  0.15345914871431887\n",
      "Iter:  8 train_loss:  0.4238563517574221 val_loss:  0.12862760323332623\n",
      "Iter:  9 train_loss:  0.3930116128176451 val_loss:  0.13229931180831045\n",
      "Iter:  10 train_loss:  0.3710899919969961 val_loss:  0.13037703427835368\n",
      "Iter:  11 train_loss:  0.3567686347523704 val_loss:  0.13588185430853628\n",
      "Iter:  12 train_loss:  0.3204324805410579 val_loss:  0.1503045610152185\n",
      "Iter:  13 train_loss:  0.30633806355763227 val_loss:  0.14701291648088954\n"
     ]
    }
   ],
   "source": [
    "vl = 99999\n",
    "counter = 0\n",
    "for e in range(300):\n",
    "    train_loss = 0\n",
    "    val_loss = 0\n",
    "    for batch_x, batch_y in train_loader:\n",
    "        batch_x = batch_x.cuda()\n",
    "        batch_y = batch_y.cuda()\n",
    "        \n",
    "        opt.zero_grad()\n",
    "        \n",
    "        output = model(batch_x)\n",
    "        \n",
    "        l = loss(output, batch_y)\n",
    "        \n",
    "        l.backward()\n",
    "        \n",
    "        opt.step()\n",
    "        \n",
    "        train_loss += l.item()\n",
    "    \n",
    "    sc.step()\n",
    "    with torch.no_grad():\n",
    "        for batch_x, batch_y in test_loader:\n",
    "            batch_x = batch_x.cuda()\n",
    "            batch_y = batch_y.cuda()\n",
    "            \n",
    "            output = model(batch_x)\n",
    "            \n",
    "            l = loss(output, batch_y)\n",
    "            \n",
    "            val_loss += l.item()\n",
    "            \n",
    "    if vl > val_loss:\n",
    "        vl = val_loss\n",
    "        torch.save(model.state_dict(), 'tcn_sml2010.pt')\n",
    "        counter = 0\n",
    "    \n",
    "    else:\n",
    "        counter += 1\n",
    "        \n",
    "    if counter >= early_stopping_rounds:\n",
    "        break\n",
    "        \n",
    "    print('Iter: ', e, 'train_loss: ', train_loss, 'val_loss: ', val_loss)"
   ]
  },
  {
   "cell_type": "code",
   "execution_count": 197,
   "metadata": {},
   "outputs": [
    {
     "data": {
      "text/plain": [
       "<All keys matched successfully>"
      ]
     },
     "execution_count": 197,
     "metadata": {},
     "output_type": "execute_result"
    }
   ],
   "source": [
    "model.load_state_dict(torch.load('tcn_sml2010.pt'))"
   ]
  },
  {
   "cell_type": "code",
   "execution_count": 198,
   "metadata": {},
   "outputs": [
    {
     "name": "stdout",
     "output_type": "stream",
     "text": [
      "Calculating Importance:\n"
     ]
    },
    {
     "name": "stderr",
     "output_type": "stream",
     "text": [
      "/usr/local/lib/python3.6/dist-packages/ipykernel_launcher.py:8: TqdmDeprecationWarning: This function will be removed in tqdm==5.0.0\n",
      "Please use `tqdm.notebook.tqdm` instead of `tqdm.tqdm_notebook`\n",
      "  \n"
     ]
    },
    {
     "data": {
      "application/vnd.jupyter.widget-view+json": {
       "model_id": "d44293d975fe45cba5b809536df92604",
       "version_major": 2,
       "version_minor": 0
      },
      "text/plain": [
       "HBox(children=(FloatProgress(value=0.0, max=26.0), HTML(value='')))"
      ]
     },
     "metadata": {},
     "output_type": "display_data"
    },
    {
     "name": "stdout",
     "output_type": "stream",
     "text": [
      "\n"
     ]
    }
   ],
   "source": [
    "bce_loss = nn.BCELoss()\n",
    "mse_loss = nn.MSELoss()\n",
    "\n",
    "model.eval()\n",
    "\n",
    "print(\"Calculating Importance:\")\n",
    "importance_map = []\n",
    "for batch_x, batch_y in tqdm_notebook(test_loader):\n",
    "    batch_x = batch_x.cuda()\n",
    "    #batch_y = batch_y.cuda()\n",
    "    bx = batch_x\n",
    "    y = model(batch_x)\n",
    "    mask = nn.Parameter(-scaling_coeff*torch.randn_like(bx))\n",
    "    opt = torch.optim.RMSprop(nn.ParameterList([mask]), lr=importance_lr)\n",
    "    for e in range(importance_calculation_steps):\n",
    "        opt.zero_grad()\n",
    "        model.zero_grad()\n",
    "        model.eval()\n",
    "        y = y.detach()\n",
    "        M = torch.sigmoid(mask)\n",
    "        x_hat = bx*M\n",
    "        y_hat = model(x_hat)\n",
    "        l = mse_loss(y_hat, y)\n",
    "        l += regularizer_coeff1*torch.sum(torch.abs(M))\n",
    "        ones = torch.zeros_like(bx)\n",
    "        ones[M>0.5] = 1\n",
    "        l += 0.5*bce_loss(M, ones)\n",
    "        l.backward()\n",
    "        opt.step()\n",
    "    M = torch.sigmoid(mask)\n",
    "    #ms = ms.detach().cpu().numpy()\n",
    "    thresholds = {}\n",
    "    with torch.no_grad():\n",
    "        for t in np.linspace(M.min().item(), M.max().item(), 100):\n",
    "            M_clone = M.clone()\n",
    "            M_clone[M_clone>t] = 1\n",
    "            M_clone[M_clone<=t] = 0\n",
    "            x_hat = bx*M_clone\n",
    "            y_hat = model(x_hat)\n",
    "            l = mse_loss(y_hat, y)\n",
    "            l += regularizer_coeff2*torch.sum(torch.abs(M_clone))\n",
    "            thresholds[l.item()] = t\n",
    "    t = thresholds[min(thresholds.keys())]\n",
    "    M = M.detach().cpu().numpy()\n",
    "    M[M>t] = 1\n",
    "    M[M<=t] = 0\n",
    "    importance_map.append(np.abs(M))\n",
    "\n",
    "importance_map = np.concatenate(importance_map)\n",
    "importance_map = np.mean(importance_map, axis=0)"
   ]
  },
  {
   "cell_type": "code",
   "execution_count": 199,
   "metadata": {},
   "outputs": [
    {
     "data": {
      "text/plain": [
       "([<matplotlib.axis.YTick at 0x7f8994526ef0>,\n",
       "  <matplotlib.axis.YTick at 0x7f8994526f98>,\n",
       "  <matplotlib.axis.YTick at 0x7f89945235c0>,\n",
       "  <matplotlib.axis.YTick at 0x7f899448e6d8>,\n",
       "  <matplotlib.axis.YTick at 0x7f8994485668>,\n",
       "  <matplotlib.axis.YTick at 0x7f899447d198>,\n",
       "  <matplotlib.axis.YTick at 0x7f899448e748>,\n",
       "  <matplotlib.axis.YTick at 0x7f899448ed68>,\n",
       "  <matplotlib.axis.YTick at 0x7f8994497240>,\n",
       "  <matplotlib.axis.YTick at 0x7f89944976d8>,\n",
       "  <matplotlib.axis.YTick at 0x7f8994497b70>,\n",
       "  <matplotlib.axis.YTick at 0x7f899449f080>,\n",
       "  <matplotlib.axis.YTick at 0x7f899449f4e0>,\n",
       "  <matplotlib.axis.YTick at 0x7f899449f978>,\n",
       "  <matplotlib.axis.YTick at 0x7f8994497470>,\n",
       "  <matplotlib.axis.YTick at 0x7f89944d8b38>,\n",
       "  <matplotlib.axis.YTick at 0x7f899449f6a0>,\n",
       "  <matplotlib.axis.YTick at 0x7f89944a9080>,\n",
       "  <matplotlib.axis.YTick at 0x7f89944a94e0>],\n",
       " [Text(0, 0, '4:Temperature_Habitacion_Sensor'),\n",
       "  Text(0, 1, '5:Weather_Temperature'),\n",
       "  Text(0, 2, '6:CO2_Comedor_Sensor'),\n",
       "  Text(0, 3, '7:CO2_Habitacion_Sensor'),\n",
       "  Text(0, 4, '8:Humedad_Comedor_Sensor'),\n",
       "  Text(0, 5, '9:Humedad_Habitacion_Sensor'),\n",
       "  Text(0, 6, '10:Lighting_Comedor_Sensor'),\n",
       "  Text(0, 7, '11:Lighting_Habitacion_Sensor'),\n",
       "  Text(0, 8, '12:Precipitacion'),\n",
       "  Text(0, 9, '13:Meteo_Exterior_Crepusculo'),\n",
       "  Text(0, 10, '14:Meteo_Exterior_Viento'),\n",
       "  Text(0, 11, '15:Meteo_Exterior_Sol_Oest'),\n",
       "  Text(0, 12, '16:Meteo_Exterior_Sol_Est'),\n",
       "  Text(0, 13, '17:Meteo_Exterior_Sol_Sud'),\n",
       "  Text(0, 14, '18:Meteo_Exterior_Piranometro'),\n",
       "  Text(0, 15, '19:Exterior_Entalpic_1'),\n",
       "  Text(0, 16, '20:Exterior_Entalpic_2'),\n",
       "  Text(0, 17, '21:Exterior_Entalpic_turbo'),\n",
       "  Text(0, 18, '22:Temperature_Exterior_Sensor')])"
      ]
     },
     "execution_count": 199,
     "metadata": {},
     "output_type": "execute_result"
    },
    {
     "data": {
      "image/png": "[encoded data removed]",
      "text/plain": [
       "<Figure size 432x288 with 1 Axes>"
      ]
     },
     "metadata": {
      "needs_background": "light"
     },
     "output_type": "display_data"
    }
   ],
   "source": [
    "plt.imshow(importance_map.T)\n",
    "plt.xticks(np.arange(depth), [\"t-{}\".format(i) for i in range(depth,0,-1)], rotation=90)\n",
    "plt.yticks(np.arange(len(cols)), cols)"
   ]
  },
  {
   "cell_type": "code",
   "execution_count": 205,
   "metadata": {},
   "outputs": [],
   "source": [
    "model = TCN(X_train_t.shape[2], 5).cuda()\n",
    "opt = torch.optim.Adam(model.parameters(), lr=0.001)\n",
    "sc = torch.optim.lr_scheduler.StepLR(opt, 10, 0.9)"
   ]
  },
  {
   "cell_type": "code",
   "execution_count": 206,
   "metadata": {},
   "outputs": [
    {
     "name": "stdout",
     "output_type": "stream",
     "text": [
      "Iter:  0 train_loss:  3.7956792316399515 val_loss:  0.19259475846774876\n",
      "Iter:  1 train_loss:  0.9967760341241956 val_loss:  0.17045606771716848\n",
      "Iter:  2 train_loss:  0.7509106320794672 val_loss:  0.14650353247998282\n",
      "Iter:  3 train_loss:  0.6188930885400623 val_loss:  0.0894757977075642\n",
      "Iter:  4 train_loss:  0.4988807636545971 val_loss:  0.08721589887863956\n",
      "Iter:  5 train_loss:  0.4710665063466877 val_loss:  0.09285415866179392\n",
      "Iter:  6 train_loss:  0.4129877125378698 val_loss:  0.10210963239660487\n",
      "Iter:  7 train_loss:  0.3523692318703979 val_loss:  0.10249158795340918\n",
      "Iter:  8 train_loss:  0.34991128265392035 val_loss:  0.13294661784311756\n",
      "Iter:  9 train_loss:  0.30859089113073424 val_loss:  0.1259322528494522\n",
      "Iter:  10 train_loss:  0.3005489711649716 val_loss:  0.1262159819016233\n",
      "Iter:  11 train_loss:  0.30092980089830235 val_loss:  0.12266218790318817\n",
      "Iter:  12 train_loss:  0.230808834428899 val_loss:  0.1363159475440625\n",
      "Iter:  13 train_loss:  0.21297500346554443 val_loss:  0.11555656918790191\n"
     ]
    }
   ],
   "source": [
    "vl = 99999\n",
    "counter = 0\n",
    "for e in range(300):\n",
    "    train_loss = 0\n",
    "    val_loss = 0\n",
    "    for batch_x, batch_y in train_loader:\n",
    "        batch_x = batch_x.cuda()\n",
    "        batch_y = batch_y.cuda()\n",
    "        \n",
    "        opt.zero_grad()\n",
    "        \n",
    "        output = model(batch_x)\n",
    "        \n",
    "        l = loss(output, batch_y)\n",
    "        \n",
    "        l.backward()\n",
    "        \n",
    "        opt.step()\n",
    "        \n",
    "        train_loss += l.item()\n",
    "    \n",
    "    sc.step()\n",
    "    with torch.no_grad():\n",
    "        for batch_x, batch_y in test_loader:\n",
    "            batch_x = batch_x.cuda()\n",
    "            batch_y = batch_y.cuda()\n",
    "            \n",
    "            output = model(batch_x)\n",
    "            \n",
    "            l = loss(output, batch_y)\n",
    "            \n",
    "            val_loss += l.item()\n",
    "            \n",
    "    if vl > val_loss:\n",
    "        vl = val_loss\n",
    "        torch.save(model.state_dict(), 'tcn_sml2010.pt')\n",
    "        counter = 0\n",
    "    \n",
    "    else:\n",
    "        counter += 1\n",
    "        \n",
    "    if counter >= early_stopping_rounds:\n",
    "        break\n",
    "        \n",
    "    print('Iter: ', e, 'train_loss: ', train_loss, 'val_loss: ', val_loss)"
   ]
  },
  {
   "cell_type": "code",
   "execution_count": 207,
   "metadata": {},
   "outputs": [
    {
     "data": {
      "text/plain": [
       "<All keys matched successfully>"
      ]
     },
     "execution_count": 207,
     "metadata": {},
     "output_type": "execute_result"
    }
   ],
   "source": [
    "model.load_state_dict(torch.load('tcn_sml2010.pt'))"
   ]
  },
  {
   "cell_type": "code",
   "execution_count": 208,
   "metadata": {},
   "outputs": [
    {
     "name": "stdout",
     "output_type": "stream",
     "text": [
      "Calculating Importance:\n"
     ]
    },
    {
     "name": "stderr",
     "output_type": "stream",
     "text": [
      "/usr/local/lib/python3.6/dist-packages/ipykernel_launcher.py:8: TqdmDeprecationWarning: This function will be removed in tqdm==5.0.0\n",
      "Please use `tqdm.notebook.tqdm` instead of `tqdm.tqdm_notebook`\n",
      "  \n"
     ]
    },
    {
     "data": {
      "application/vnd.jupyter.widget-view+json": {
       "model_id": "da10f3dc8e1e47e38b4e88d0df51e2ee",
       "version_major": 2,
       "version_minor": 0
      },
      "text/plain": [
       "HBox(children=(FloatProgress(value=0.0, max=26.0), HTML(value='')))"
      ]
     },
     "metadata": {},
     "output_type": "display_data"
    },
    {
     "name": "stdout",
     "output_type": "stream",
     "text": [
      "\n"
     ]
    }
   ],
   "source": [
    "bce_loss = nn.BCELoss()\n",
    "mse_loss = nn.MSELoss()\n",
    "\n",
    "model.eval()\n",
    "\n",
    "print(\"Calculating Importance:\")\n",
    "importance_map = []\n",
    "for batch_x, batch_y in tqdm_notebook(test_loader):\n",
    "    batch_x = batch_x.cuda()\n",
    "    #batch_y = batch_y.cuda()\n",
    "    bx = batch_x\n",
    "    y = model(batch_x)\n",
    "    mask = nn.Parameter(-scaling_coeff*torch.randn_like(bx))\n",
    "    opt = torch.optim.RMSprop(nn.ParameterList([mask]), lr=importance_lr)\n",
    "    for e in range(importance_calculation_steps):\n",
    "        opt.zero_grad()\n",
    "        model.zero_grad()\n",
    "        model.eval()\n",
    "        y = y.detach()\n",
    "        M = torch.sigmoid(mask)\n",
    "        x_hat = bx*M\n",
    "        y_hat = model(x_hat)\n",
    "        l = mse_loss(y_hat, y)\n",
    "        l += regularizer_coeff1*torch.sum(torch.abs(M))\n",
    "        ones = torch.zeros_like(bx)\n",
    "        ones[M>0.5] = 1\n",
    "        l += 0.5*bce_loss(M, ones)\n",
    "        l.backward()\n",
    "        opt.step()\n",
    "    M = torch.sigmoid(mask)\n",
    "    #ms = ms.detach().cpu().numpy()\n",
    "    thresholds = {}\n",
    "    with torch.no_grad():\n",
    "        for t in np.linspace(M.min().item(), M.max().item(), 100):\n",
    "            M_clone = M.clone()\n",
    "            M_clone[M_clone>t] = 1\n",
    "            M_clone[M_clone<=t] = 0\n",
    "            x_hat = bx*M_clone\n",
    "            y_hat = model(x_hat)\n",
    "            l = mse_loss(y_hat, y)\n",
    "            l += regularizer_coeff2*torch.sum(torch.abs(M_clone))\n",
    "            thresholds[l.item()] = t\n",
    "    t = thresholds[min(thresholds.keys())]\n",
    "    M = M.detach().cpu().numpy()\n",
    "    M[M>t] = 1\n",
    "    M[M<=t] = 0\n",
    "    importance_map.append(np.abs(M))\n",
    "\n",
    "importance_map = np.concatenate(importance_map)\n",
    "importance_map = np.mean(importance_map, axis=0)"
   ]
  },
  {
   "cell_type": "code",
   "execution_count": 209,
   "metadata": {},
   "outputs": [
    {
     "data": {
      "text/plain": [
       "([<matplotlib.axis.YTick at 0x7f8995997668>,\n",
       "  <matplotlib.axis.YTick at 0x7f8939ba4ac8>,\n",
       "  <matplotlib.axis.YTick at 0x7f8939ae29b0>,\n",
       "  <matplotlib.axis.YTick at 0x7f8994888eb8>,\n",
       "  <matplotlib.axis.YTick at 0x7f8994927da0>,\n",
       "  <matplotlib.axis.YTick at 0x7f899488d630>,\n",
       "  <matplotlib.axis.YTick at 0x7f8994862898>,\n",
       "  <matplotlib.axis.YTick at 0x7f8994866908>,\n",
       "  <matplotlib.axis.YTick at 0x7f8994882198>,\n",
       "  <matplotlib.axis.YTick at 0x7f8994930da0>,\n",
       "  <matplotlib.axis.YTick at 0x7f8994930eb8>,\n",
       "  <matplotlib.axis.YTick at 0x7f89948695f8>,\n",
       "  <matplotlib.axis.YTick at 0x7f899496ab38>,\n",
       "  <matplotlib.axis.YTick at 0x7f8994869278>,\n",
       "  <matplotlib.axis.YTick at 0x7f8994866e48>,\n",
       "  <matplotlib.axis.YTick at 0x7f899488db00>,\n",
       "  <matplotlib.axis.YTick at 0x7f8939af6588>,\n",
       "  <matplotlib.axis.YTick at 0x7f8994938b70>,\n",
       "  <matplotlib.axis.YTick at 0x7f89949792b0>],\n",
       " [Text(0, 0, '4:Temperature_Habitacion_Sensor'),\n",
       "  Text(0, 1, '5:Weather_Temperature'),\n",
       "  Text(0, 2, '6:CO2_Comedor_Sensor'),\n",
       "  Text(0, 3, '7:CO2_Habitacion_Sensor'),\n",
       "  Text(0, 4, '8:Humedad_Comedor_Sensor'),\n",
       "  Text(0, 5, '9:Humedad_Habitacion_Sensor'),\n",
       "  Text(0, 6, '10:Lighting_Comedor_Sensor'),\n",
       "  Text(0, 7, '11:Lighting_Habitacion_Sensor'),\n",
       "  Text(0, 8, '12:Precipitacion'),\n",
       "  Text(0, 9, '13:Meteo_Exterior_Crepusculo'),\n",
       "  Text(0, 10, '14:Meteo_Exterior_Viento'),\n",
       "  Text(0, 11, '15:Meteo_Exterior_Sol_Oest'),\n",
       "  Text(0, 12, '16:Meteo_Exterior_Sol_Est'),\n",
       "  Text(0, 13, '17:Meteo_Exterior_Sol_Sud'),\n",
       "  Text(0, 14, '18:Meteo_Exterior_Piranometro'),\n",
       "  Text(0, 15, '19:Exterior_Entalpic_1'),\n",
       "  Text(0, 16, '20:Exterior_Entalpic_2'),\n",
       "  Text(0, 17, '21:Exterior_Entalpic_turbo'),\n",
       "  Text(0, 18, '22:Temperature_Exterior_Sensor')])"
      ]
     },
     "execution_count": 209,
     "metadata": {},
     "output_type": "execute_result"
    },
    {
     "data": {
      "image/png": "[encoded data removed]",
      "text/plain": [
       "<Figure size 432x288 with 1 Axes>"
      ]
     },
     "metadata": {
      "needs_background": "light"
     },
     "output_type": "display_data"
    }
   ],
   "source": [
    "plt.imshow(importance_map.T)\n",
    "plt.xticks(np.arange(depth), [\"t-{}\".format(i) for i in range(depth,0,-1)], rotation=90)\n",
    "plt.yticks(np.arange(len(cols)), cols)"
   ]
  },
  {
   "cell_type": "code",
   "execution_count": null,
   "metadata": {},
   "outputs": [],
   "source": []
  }
 ],
 "metadata": {
  "kernelspec": {
   "display_name": "Python 3",
   "language": "python",
   "name": "python3"
  },
  "language_info": {
   "codemirror_mode": {
    "name": "ipython",
    "version": 3
   },
   "file_extension": ".py",
   "mimetype": "text/x-python",
   "name": "python",
   "nbconvert_exporter": "python",
   "pygments_lexer": "ipython3",
   "version": "3.6.9"
  }
 },
 "nbformat": 4,
 "nbformat_minor": 4
}
